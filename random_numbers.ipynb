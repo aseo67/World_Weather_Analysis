{
 "cells": [
  {
   "cell_type": "code",
   "execution_count": 1,
   "id": "d21a184a",
   "metadata": {},
   "outputs": [],
   "source": [
    "# Import the random module.\n",
    "import random"
   ]
  },
  {
   "cell_type": "code",
   "execution_count": 2,
   "id": "dd658046",
   "metadata": {},
   "outputs": [
    {
     "data": {
      "text/plain": [
       "-67"
      ]
     },
     "execution_count": 2,
     "metadata": {},
     "output_type": "execute_result"
    }
   ],
   "source": [
    "# random.randit() example\n",
    "random.randint(-90, 90)"
   ]
  },
  {
   "cell_type": "code",
   "execution_count": 3,
   "id": "b0f06944",
   "metadata": {},
   "outputs": [
    {
     "data": {
      "text/plain": [
       "0.9477275590450889"
      ]
     },
     "execution_count": 3,
     "metadata": {},
     "output_type": "execute_result"
    }
   ],
   "source": [
    "# random.random() example\n",
    "random.random()"
   ]
  },
  {
   "cell_type": "code",
   "execution_count": 4,
   "id": "cabaf9b3",
   "metadata": {},
   "outputs": [
    {
     "data": {
      "text/plain": [
       "[-38.181409876186265,\n",
       " -60.70501551869004,\n",
       " 86.22240423101428,\n",
       " -70.0782119127161,\n",
       " 24.653347082436113,\n",
       " -8.356177642333774,\n",
       " 21.74868300992081,\n",
       " 89.1197279355533,\n",
       " 14.03175824742269,\n",
       " 42.76817868767381]"
      ]
     },
     "execution_count": 4,
     "metadata": {},
     "output_type": "execute_result"
    }
   ],
   "source": [
    "# generate ten random floating-point decimal latitudes between –90 and 89\n",
    "x = 1\n",
    "latitudes = []\n",
    "while x < 11:\n",
    "    random_lat = random.randint(-90, 89) + random.random()\n",
    "    latitudes.append(random_lat)\n",
    "    x += 1\n",
    "latitudes"
   ]
  },
  {
   "cell_type": "code",
   "execution_count": 5,
   "id": "0f928d5d",
   "metadata": {},
   "outputs": [
    {
     "data": {
      "text/plain": [
       "-2"
      ]
     },
     "execution_count": 5,
     "metadata": {},
     "output_type": "execute_result"
    }
   ],
   "source": [
    "# random.randrange() example\n",
    "random.randrange(-90, 90, step=1)"
   ]
  },
  {
   "cell_type": "code",
   "execution_count": 6,
   "id": "c22fedee",
   "metadata": {},
   "outputs": [
    {
     "data": {
      "text/plain": [
       "9"
      ]
     },
     "execution_count": 6,
     "metadata": {},
     "output_type": "execute_result"
    }
   ],
   "source": [
    "# random.randrange() example 2\n",
    "random.randrange(-90, 90, step=3)"
   ]
  },
  {
   "cell_type": "code",
   "execution_count": 7,
   "id": "c00fb8b4",
   "metadata": {},
   "outputs": [
    {
     "data": {
      "text/plain": [
       "55.23982781069023"
      ]
     },
     "execution_count": 7,
     "metadata": {},
     "output_type": "execute_result"
    }
   ],
   "source": [
    "# random.uniform() example\n",
    "random.uniform(-90, 90)"
   ]
  },
  {
   "cell_type": "code",
   "execution_count": 8,
   "id": "f24e0012",
   "metadata": {},
   "outputs": [],
   "source": [
    "# Import the NumPy module to use with random() functions\n",
    "import numpy as np"
   ]
  },
  {
   "cell_type": "code",
   "execution_count": 9,
   "id": "46c03320",
   "metadata": {},
   "outputs": [
    {
     "data": {
      "text/plain": [
       "-43.79114381369477"
      ]
     },
     "execution_count": 9,
     "metadata": {},
     "output_type": "execute_result"
    }
   ],
   "source": [
    "np.random.uniform(-90.000, 90.000)"
   ]
  },
  {
   "cell_type": "code",
   "execution_count": 10,
   "id": "b0bad1ab",
   "metadata": {},
   "outputs": [
    {
     "data": {
      "text/plain": [
       "42.06980885941513"
      ]
     },
     "execution_count": 10,
     "metadata": {},
     "output_type": "execute_result"
    }
   ],
   "source": [
    "np.random.uniform(low=-90, high=90)"
   ]
  },
  {
   "cell_type": "code",
   "execution_count": 11,
   "id": "a9ad1f58",
   "metadata": {},
   "outputs": [
    {
     "data": {
      "text/plain": [
       "array([ 36.61114102, -86.09655627,  49.9883156 , -49.05670634,\n",
       "       -31.24536811,  10.07551052, -48.29456484, -45.5717553 ,\n",
       "         5.89891087, -51.69777363,  44.83792914, -37.40026587,\n",
       "       -76.59871141, -23.20491694,  -5.41172547, -54.9846154 ,\n",
       "       -79.20951173,  46.6444146 ,  49.45088265,  79.54571122,\n",
       "        18.45876559, -25.29128355,  52.38072231, -24.94642539,\n",
       "        -7.67933939, -79.55876795, -35.90083654,  47.74937668,\n",
       "        -2.66345714,  40.27660169,  80.50156661,   7.59477321,\n",
       "       -78.38523857,  67.70669211,  83.09680563,   0.16768415,\n",
       "        28.21975139, -50.40481811,  76.4995381 ,  53.49709394,\n",
       "         6.15725018,  32.0032215 ,  -1.24120914,  87.48946916,\n",
       "        37.55202495, -55.76545711, -71.89341342, -37.84819505,\n",
       "       -26.60409556,   6.32939133])"
      ]
     },
     "execution_count": 11,
     "metadata": {},
     "output_type": "execute_result"
    }
   ],
   "source": [
    "np.random.uniform(-90.000, 90.000, size=50)"
   ]
  },
  {
   "cell_type": "code",
   "execution_count": 12,
   "id": "d0b72e63",
   "metadata": {},
   "outputs": [
    {
     "name": "stdout",
     "output_type": "stream",
     "text": [
      "14 µs ± 321 ns per loop (mean ± std. dev. of 7 runs, 100000 loops each)\n"
     ]
    }
   ],
   "source": [
    "# Import timeit\n",
    "import timeit\n",
    "\n",
    "# Time random() function\n",
    "%timeit np.random.uniform(-90.000, 90.000, size=1500)"
   ]
  },
  {
   "cell_type": "code",
   "execution_count": 15,
   "id": "ecd3096c",
   "metadata": {},
   "outputs": [
    {
     "name": "stdout",
     "output_type": "stream",
     "text": [
      "1.11 ms ± 39.8 µs per loop (mean ± std. dev. of 7 runs, 1000 loops each)\n"
     ]
    }
   ],
   "source": [
    "# Generate random latitudes wih while function\n",
    "def latitudes(size):\n",
    "    latitudes = []\n",
    "    x = 0\n",
    "    while x < (size):\n",
    "        random_lat = random.randint(-90,90) + random.random()\n",
    "        latitudes.append(random_lat)\n",
    "        x +=1\n",
    "    return latitudes\n",
    "# Call function with 1500\n",
    "%timeit latitudes (1500)"
   ]
  },
  {
   "cell_type": "code",
   "execution_count": 19,
   "id": "b6b8171a",
   "metadata": {},
   "outputs": [
    {
     "name": "stdout",
     "output_type": "stream",
     "text": [
      "15.4 ns ± 0.124 ns per loop (mean ± std. dev. of 7 runs, 100000000 loops each)\n"
     ]
    }
   ],
   "source": [
    "# Refactor code for while loop with %timeit command\n",
    "def latitudes(size):\n",
    "    latitudes = []\n",
    "    x=0\n",
    "    while x < (size):\n",
    "        random_lat = random.randint(-90,90) + random.random()\n",
    "        latitudes.append(random_lat)\n",
    "        x +=1\n",
    "    %timeit latitudes\n",
    "latitudes(1500)"
   ]
  },
  {
   "cell_type": "code",
   "execution_count": null,
   "id": "767b2eeb",
   "metadata": {},
   "outputs": [],
   "source": []
  }
 ],
 "metadata": {
  "kernelspec": {
   "display_name": "PythonData",
   "language": "python",
   "name": "pythondata"
  },
  "language_info": {
   "codemirror_mode": {
    "name": "ipython",
    "version": 3
   },
   "file_extension": ".py",
   "mimetype": "text/x-python",
   "name": "python",
   "nbconvert_exporter": "python",
   "pygments_lexer": "ipython3",
   "version": "3.8.8"
  }
 },
 "nbformat": 4,
 "nbformat_minor": 5
}
